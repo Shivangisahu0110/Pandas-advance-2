{
 "cells": [
  {
   "cell_type": "code",
   "execution_count": 3,
   "id": "054f2001-770d-4514-af17-33bf0be9b173",
   "metadata": {},
   "outputs": [
    {
     "data": {
      "text/html": [
       "<div>\n",
       "<style scoped>\n",
       "    .dataframe tbody tr th:only-of-type {\n",
       "        vertical-align: middle;\n",
       "    }\n",
       "\n",
       "    .dataframe tbody tr th {\n",
       "        vertical-align: top;\n",
       "    }\n",
       "\n",
       "    .dataframe thead th {\n",
       "        text-align: right;\n",
       "    }\n",
       "</style>\n",
       "<table border=\"1\" class=\"dataframe\">\n",
       "  <thead>\n",
       "    <tr style=\"text-align: right;\">\n",
       "      <th></th>\n",
       "      <th>course_name</th>\n",
       "      <th>duration</th>\n",
       "    </tr>\n",
       "  </thead>\n",
       "  <tbody>\n",
       "    <tr>\n",
       "      <th>0</th>\n",
       "      <td>Data Science</td>\n",
       "      <td>2</td>\n",
       "    </tr>\n",
       "    <tr>\n",
       "      <th>1</th>\n",
       "      <td>Machine Learning</td>\n",
       "      <td>3</td>\n",
       "    </tr>\n",
       "    <tr>\n",
       "      <th>2</th>\n",
       "      <td>Big Data</td>\n",
       "      <td>6</td>\n",
       "    </tr>\n",
       "    <tr>\n",
       "      <th>3</th>\n",
       "      <td>Data Engineer</td>\n",
       "      <td>4</td>\n",
       "    </tr>\n",
       "  </tbody>\n",
       "</table>\n",
       "</div>"
      ],
      "text/plain": [
       "        course_name  duration\n",
       "0      Data Science         2\n",
       "1  Machine Learning         3\n",
       "2          Big Data         6\n",
       "3     Data Engineer         4"
      ]
     },
     "execution_count": 3,
     "metadata": {},
     "output_type": "execute_result"
    }
   ],
   "source": [
    "import pandas as pd\n",
    "course_name = [\"Data Science\", \"Machine Learning\", \"Big Data\", \"Data Engineer\"]\n",
    "duration = [2,3,6,4]\n",
    "df = pd.DataFrame(data = {\"course_name\" : course_name, \"duration\" : duration})\n",
    "df"
   ]
  },
  {
   "cell_type": "markdown",
   "id": "d3b9260a-a21e-4991-86ac-a5c04ebc0a89",
   "metadata": {},
   "source": [
    "Q1. Write a code to print the data present in the second row of the dataframe, df."
   ]
  },
  {
   "cell_type": "code",
   "execution_count": 8,
   "id": "54528572-4ba9-4029-979b-29d66c2e5648",
   "metadata": {},
   "outputs": [
    {
     "data": {
      "text/plain": [
       "course_name    Machine Learning\n",
       "duration                      3\n",
       "Name: 1, dtype: object"
      ]
     },
     "execution_count": 8,
     "metadata": {},
     "output_type": "execute_result"
    }
   ],
   "source": [
    "df.iloc[1]"
   ]
  },
  {
   "cell_type": "markdown",
   "id": "55ed263c-3f14-41c4-8a71-c404720b2236",
   "metadata": {},
   "source": [
    "Q2. What is the difference between the functions loc and iloc in pandas.DataFrame?"
   ]
  },
  {
   "cell_type": "markdown",
   "id": "0df45cf6-ba9b-4314-a1a1-c1331f812f20",
   "metadata": {},
   "source": [
    "loc (label-based selection):\n",
    "\n",
    "loc is primarily used for label-based indexing, which means you specify the row and column labels to select data.\n",
    "\n",
    "It includes the endpoint when slicing, meaning both the start and stop indices are inclusive.\n",
    "\n",
    "You can use boolean indexing with loc to filter rows based on conditions using labels."
   ]
  },
  {
   "cell_type": "code",
   "execution_count": 13,
   "id": "447c7e9a-0be5-4247-be8b-9f986ad334d5",
   "metadata": {},
   "outputs": [
    {
     "data": {
      "text/html": [
       "<div>\n",
       "<style scoped>\n",
       "    .dataframe tbody tr th:only-of-type {\n",
       "        vertical-align: middle;\n",
       "    }\n",
       "\n",
       "    .dataframe tbody tr th {\n",
       "        vertical-align: top;\n",
       "    }\n",
       "\n",
       "    .dataframe thead th {\n",
       "        text-align: right;\n",
       "    }\n",
       "</style>\n",
       "<table border=\"1\" class=\"dataframe\">\n",
       "  <thead>\n",
       "    <tr style=\"text-align: right;\">\n",
       "      <th></th>\n",
       "      <th>course_name</th>\n",
       "      <th>duration</th>\n",
       "    </tr>\n",
       "  </thead>\n",
       "  <tbody>\n",
       "    <tr>\n",
       "      <th>1</th>\n",
       "      <td>Machine Learning</td>\n",
       "      <td>3</td>\n",
       "    </tr>\n",
       "    <tr>\n",
       "      <th>2</th>\n",
       "      <td>Big Data</td>\n",
       "      <td>6</td>\n",
       "    </tr>\n",
       "    <tr>\n",
       "      <th>3</th>\n",
       "      <td>Data Engineer</td>\n",
       "      <td>4</td>\n",
       "    </tr>\n",
       "  </tbody>\n",
       "</table>\n",
       "</div>"
      ],
      "text/plain": [
       "        course_name  duration\n",
       "1  Machine Learning         3\n",
       "2          Big Data         6\n",
       "3     Data Engineer         4"
      ]
     },
     "execution_count": 13,
     "metadata": {},
     "output_type": "execute_result"
    }
   ],
   "source": [
    "df.loc[1:3]"
   ]
  },
  {
   "cell_type": "markdown",
   "id": "596498ad-5050-4136-b450-e3814b3a22e3",
   "metadata": {},
   "source": [
    "iloc (integer-based selection):\n",
    "\n",
    "iloc is used for integer-based indexing, which means you specify the row and column positions (integer indices) to select data.\n",
    "\n",
    "It excludes the endpoint when slicing, meaning the start index is inclusive, but the stop index is exclusive.\n",
    "\n",
    "You can use integer indexing and slicing with iloc to select rows and columns by their integer positions."
   ]
  },
  {
   "cell_type": "code",
   "execution_count": 12,
   "id": "cc3afbfa-3b9d-41c6-8738-95accc333658",
   "metadata": {},
   "outputs": [
    {
     "data": {
      "text/html": [
       "<div>\n",
       "<style scoped>\n",
       "    .dataframe tbody tr th:only-of-type {\n",
       "        vertical-align: middle;\n",
       "    }\n",
       "\n",
       "    .dataframe tbody tr th {\n",
       "        vertical-align: top;\n",
       "    }\n",
       "\n",
       "    .dataframe thead th {\n",
       "        text-align: right;\n",
       "    }\n",
       "</style>\n",
       "<table border=\"1\" class=\"dataframe\">\n",
       "  <thead>\n",
       "    <tr style=\"text-align: right;\">\n",
       "      <th></th>\n",
       "      <th>course_name</th>\n",
       "      <th>duration</th>\n",
       "    </tr>\n",
       "  </thead>\n",
       "  <tbody>\n",
       "    <tr>\n",
       "      <th>1</th>\n",
       "      <td>Machine Learning</td>\n",
       "      <td>3</td>\n",
       "    </tr>\n",
       "    <tr>\n",
       "      <th>2</th>\n",
       "      <td>Big Data</td>\n",
       "      <td>6</td>\n",
       "    </tr>\n",
       "  </tbody>\n",
       "</table>\n",
       "</div>"
      ],
      "text/plain": [
       "        course_name  duration\n",
       "1  Machine Learning         3\n",
       "2          Big Data         6"
      ]
     },
     "execution_count": 12,
     "metadata": {},
     "output_type": "execute_result"
    }
   ],
   "source": [
    "df.iloc[1:3]"
   ]
  },
  {
   "cell_type": "markdown",
   "id": "f5190c19-19d3-4a17-bab3-ad8be15e4239",
   "metadata": {},
   "source": [
    "Q3. Reindex the given dataframe using a variable, reindex = [3,0,1,2] and store it in the variable, new_df\n",
    "then find the output for both new_df.loc[2] and new_df.iloc[2].\n",
    "\n",
    "Did you observe any difference in both the outputs? If so then explain it.\n",
    "Consider the below code to answer further questions:"
   ]
  },
  {
   "cell_type": "code",
   "execution_count": 15,
   "id": "09679aca-b1a2-4bb3-b624-66dfddef0c17",
   "metadata": {},
   "outputs": [
    {
     "data": {
      "text/html": [
       "<div>\n",
       "<style scoped>\n",
       "    .dataframe tbody tr th:only-of-type {\n",
       "        vertical-align: middle;\n",
       "    }\n",
       "\n",
       "    .dataframe tbody tr th {\n",
       "        vertical-align: top;\n",
       "    }\n",
       "\n",
       "    .dataframe thead th {\n",
       "        text-align: right;\n",
       "    }\n",
       "</style>\n",
       "<table border=\"1\" class=\"dataframe\">\n",
       "  <thead>\n",
       "    <tr style=\"text-align: right;\">\n",
       "      <th></th>\n",
       "      <th>column_1</th>\n",
       "      <th>column_2</th>\n",
       "      <th>column_3</th>\n",
       "      <th>column_4</th>\n",
       "      <th>column_5</th>\n",
       "      <th>column_6</th>\n",
       "    </tr>\n",
       "  </thead>\n",
       "  <tbody>\n",
       "    <tr>\n",
       "      <th>1</th>\n",
       "      <td>0.776087</td>\n",
       "      <td>0.111484</td>\n",
       "      <td>0.466044</td>\n",
       "      <td>0.134153</td>\n",
       "      <td>0.424817</td>\n",
       "      <td>0.573128</td>\n",
       "    </tr>\n",
       "    <tr>\n",
       "      <th>2</th>\n",
       "      <td>0.660854</td>\n",
       "      <td>0.549360</td>\n",
       "      <td>0.115167</td>\n",
       "      <td>0.807394</td>\n",
       "      <td>0.420262</td>\n",
       "      <td>0.753903</td>\n",
       "    </tr>\n",
       "    <tr>\n",
       "      <th>3</th>\n",
       "      <td>0.689216</td>\n",
       "      <td>0.128406</td>\n",
       "      <td>0.430537</td>\n",
       "      <td>0.434066</td>\n",
       "      <td>0.121510</td>\n",
       "      <td>0.456926</td>\n",
       "    </tr>\n",
       "    <tr>\n",
       "      <th>4</th>\n",
       "      <td>0.335029</td>\n",
       "      <td>0.726923</td>\n",
       "      <td>0.571371</td>\n",
       "      <td>0.304838</td>\n",
       "      <td>0.068929</td>\n",
       "      <td>0.015654</td>\n",
       "    </tr>\n",
       "    <tr>\n",
       "      <th>5</th>\n",
       "      <td>0.750450</td>\n",
       "      <td>0.136624</td>\n",
       "      <td>0.735916</td>\n",
       "      <td>0.484225</td>\n",
       "      <td>0.053739</td>\n",
       "      <td>0.848631</td>\n",
       "    </tr>\n",
       "    <tr>\n",
       "      <th>6</th>\n",
       "      <td>0.709796</td>\n",
       "      <td>0.171874</td>\n",
       "      <td>0.563367</td>\n",
       "      <td>0.526634</td>\n",
       "      <td>0.705425</td>\n",
       "      <td>0.007450</td>\n",
       "    </tr>\n",
       "  </tbody>\n",
       "</table>\n",
       "</div>"
      ],
      "text/plain": [
       "   column_1  column_2  column_3  column_4  column_5  column_6\n",
       "1  0.776087  0.111484  0.466044  0.134153  0.424817  0.573128\n",
       "2  0.660854  0.549360  0.115167  0.807394  0.420262  0.753903\n",
       "3  0.689216  0.128406  0.430537  0.434066  0.121510  0.456926\n",
       "4  0.335029  0.726923  0.571371  0.304838  0.068929  0.015654\n",
       "5  0.750450  0.136624  0.735916  0.484225  0.053739  0.848631\n",
       "6  0.709796  0.171874  0.563367  0.526634  0.705425  0.007450"
      ]
     },
     "execution_count": 15,
     "metadata": {},
     "output_type": "execute_result"
    }
   ],
   "source": [
    "import pandas as pd\n",
    "import numpy as np\n",
    "columns = ['column_1', 'column_2', 'column_3', 'column_4', 'column_5', 'column_6']\n",
    "indices = [1,2,3,4,5,6]\n",
    "#Creating a dataframe:\n",
    "df1 = pd.DataFrame(np.random.rand(6,6), columns = columns, index = indices)\n",
    "df1"
   ]
  },
  {
   "cell_type": "code",
   "execution_count": 16,
   "id": "1a305e87-ed38-402e-a3e1-67f396243a09",
   "metadata": {},
   "outputs": [],
   "source": [
    "reindex = [3, 0, 1, 2]\n",
    "new_df = df1.reindex(reindex)"
   ]
  },
  {
   "cell_type": "code",
   "execution_count": 17,
   "id": "6fec82bc-c0c9-48d2-96b2-28cd0ef00d29",
   "metadata": {},
   "outputs": [
    {
     "data": {
      "text/plain": [
       "column_1    0.660854\n",
       "column_2    0.549360\n",
       "column_3    0.115167\n",
       "column_4    0.807394\n",
       "column_5    0.420262\n",
       "column_6    0.753903\n",
       "Name: 2, dtype: float64"
      ]
     },
     "execution_count": 17,
     "metadata": {},
     "output_type": "execute_result"
    }
   ],
   "source": [
    "new_df.loc[2]"
   ]
  },
  {
   "cell_type": "code",
   "execution_count": 18,
   "id": "2c263f28-1bea-49cd-a951-04f58f06b877",
   "metadata": {},
   "outputs": [
    {
     "data": {
      "text/plain": [
       "column_1    0.776087\n",
       "column_2    0.111484\n",
       "column_3    0.466044\n",
       "column_4    0.134153\n",
       "column_5    0.424817\n",
       "column_6    0.573128\n",
       "Name: 1, dtype: float64"
      ]
     },
     "execution_count": 18,
     "metadata": {},
     "output_type": "execute_result"
    }
   ],
   "source": [
    "new_df.iloc[2]"
   ]
  },
  {
   "cell_type": "markdown",
   "id": "41d5a485-f730-4bf4-ac8f-bd9345256ffb",
   "metadata": {},
   "source": [
    " the key difference is that loc uses label-based indexing, and iloc uses integer-based indexing. In this specific case, because of the reindexing, new_df.loc[2] selects a different row compared to new_df.iloc[2], and this leads to differences in their outputs."
   ]
  },
  {
   "cell_type": "markdown",
   "id": "991df646-b4ff-4bc2-a441-8186c9ecd626",
   "metadata": {},
   "source": [
    "Q4. Write a code to find the following statistical measurements for the above dataframe df1:\n",
    "\n",
    "(i) mean of each and every column present in the dataframe.\n",
    "\n",
    "(ii) standard deviation of column, ‘column_2’"
   ]
  },
  {
   "cell_type": "markdown",
   "id": "8a39acff-85db-4bb4-84cb-fdf4925d185e",
   "metadata": {},
   "source": [
    "(i) Mean of each column:"
   ]
  },
  {
   "cell_type": "code",
   "execution_count": 23,
   "id": "70044e02-0b3f-4c15-ba8e-31ba59086579",
   "metadata": {},
   "outputs": [
    {
     "name": "stdout",
     "output_type": "stream",
     "text": [
      "Mean of each column: \n",
      "column_1    0.653572\n",
      "column_2    0.304112\n",
      "column_3    0.480400\n",
      "column_4    0.448552\n",
      "column_5    0.299114\n",
      "column_6    0.442615\n",
      "dtype: float64\n"
     ]
    }
   ],
   "source": [
    "column_mean = df1.mean()\n",
    "print (\"Mean of each column: \")\n",
    "print (column_mean)"
   ]
  },
  {
   "cell_type": "markdown",
   "id": "7f28da33-e093-4fe4-8491-80b1c81a03aa",
   "metadata": {},
   "source": [
    "(ii) Standard deviation of 'column_2':"
   ]
  },
  {
   "cell_type": "code",
   "execution_count": 28,
   "id": "2b9306ef-7334-456a-aec4-c5e0e12c63cd",
   "metadata": {},
   "outputs": [
    {
     "name": "stdout",
     "output_type": "stream",
     "text": [
      "standard deviation of column_2 :  0.2654930729953491\n"
     ]
    }
   ],
   "source": [
    "standard_dev = df1[\"column_2\"].std()\n",
    "print (\"standard deviation of column_2 : \",standard_dev)"
   ]
  },
  {
   "cell_type": "markdown",
   "id": "d7641ac6-46de-4c7f-8605-590497674d19",
   "metadata": {},
   "source": [
    "Q5. Replace the data present in the second row of column, ‘column_2’ by a string variable then find the\n",
    "mean of column, column_2.\n",
    "If you are getting errors in executing it then explain why.\n",
    "[Hint: To replace the data use df1.loc[] and equate this to string data of your choice.]"
   ]
  },
  {
   "cell_type": "code",
   "execution_count": 34,
   "id": "c5ce23b9-bc47-40e7-acdc-d93695166cc7",
   "metadata": {},
   "outputs": [
    {
     "data": {
      "text/html": [
       "<div>\n",
       "<style scoped>\n",
       "    .dataframe tbody tr th:only-of-type {\n",
       "        vertical-align: middle;\n",
       "    }\n",
       "\n",
       "    .dataframe tbody tr th {\n",
       "        vertical-align: top;\n",
       "    }\n",
       "\n",
       "    .dataframe thead th {\n",
       "        text-align: right;\n",
       "    }\n",
       "</style>\n",
       "<table border=\"1\" class=\"dataframe\">\n",
       "  <thead>\n",
       "    <tr style=\"text-align: right;\">\n",
       "      <th></th>\n",
       "      <th>column_1</th>\n",
       "      <th>column_2</th>\n",
       "      <th>column_3</th>\n",
       "      <th>column_4</th>\n",
       "      <th>column_5</th>\n",
       "      <th>column_6</th>\n",
       "    </tr>\n",
       "  </thead>\n",
       "  <tbody>\n",
       "    <tr>\n",
       "      <th>1</th>\n",
       "      <td>0.776087</td>\n",
       "      <td>0.11148448747416495</td>\n",
       "      <td>0.466044</td>\n",
       "      <td>0.134153</td>\n",
       "      <td>0.424817</td>\n",
       "      <td>0.573128</td>\n",
       "    </tr>\n",
       "    <tr>\n",
       "      <th>2</th>\n",
       "      <td>0.660854</td>\n",
       "      <td>my name is shivangi</td>\n",
       "      <td>0.115167</td>\n",
       "      <td>0.807394</td>\n",
       "      <td>0.420262</td>\n",
       "      <td>0.753903</td>\n",
       "    </tr>\n",
       "    <tr>\n",
       "      <th>3</th>\n",
       "      <td>0.689216</td>\n",
       "      <td>0.12840617517351027</td>\n",
       "      <td>0.430537</td>\n",
       "      <td>0.434066</td>\n",
       "      <td>0.121510</td>\n",
       "      <td>0.456926</td>\n",
       "    </tr>\n",
       "    <tr>\n",
       "      <th>4</th>\n",
       "      <td>0.335029</td>\n",
       "      <td>0.7269229156894381</td>\n",
       "      <td>0.571371</td>\n",
       "      <td>0.304838</td>\n",
       "      <td>0.068929</td>\n",
       "      <td>0.015654</td>\n",
       "    </tr>\n",
       "    <tr>\n",
       "      <th>5</th>\n",
       "      <td>0.750450</td>\n",
       "      <td>0.13662366780365776</td>\n",
       "      <td>0.735916</td>\n",
       "      <td>0.484225</td>\n",
       "      <td>0.053739</td>\n",
       "      <td>0.848631</td>\n",
       "    </tr>\n",
       "    <tr>\n",
       "      <th>6</th>\n",
       "      <td>0.709796</td>\n",
       "      <td>0.17187416095485997</td>\n",
       "      <td>0.563367</td>\n",
       "      <td>0.526634</td>\n",
       "      <td>0.705425</td>\n",
       "      <td>0.007450</td>\n",
       "    </tr>\n",
       "  </tbody>\n",
       "</table>\n",
       "</div>"
      ],
      "text/plain": [
       "   column_1             column_2  column_3  column_4  column_5  column_6\n",
       "1  0.776087  0.11148448747416495  0.466044  0.134153  0.424817  0.573128\n",
       "2  0.660854  my name is shivangi  0.115167  0.807394  0.420262  0.753903\n",
       "3  0.689216  0.12840617517351027  0.430537  0.434066  0.121510  0.456926\n",
       "4  0.335029   0.7269229156894381  0.571371  0.304838  0.068929  0.015654\n",
       "5  0.750450  0.13662366780365776  0.735916  0.484225  0.053739  0.848631\n",
       "6  0.709796  0.17187416095485997  0.563367  0.526634  0.705425  0.007450"
      ]
     },
     "execution_count": 34,
     "metadata": {},
     "output_type": "execute_result"
    }
   ],
   "source": [
    "new_string = \"my name is shivangi\"\n",
    "# Replace the data in the second row of 'column_2' with a new_string\n",
    "df1.loc[2,\"column_2\"] = new_string\n",
    "\n",
    "# Convert the entire 'column_2' to a string data type\n",
    "df1[\"column_2\"]= df1[\"column_2\"].astype(str)\n",
    "\n",
    "df1"
   ]
  },
  {
   "cell_type": "code",
   "execution_count": 35,
   "id": "1708f509-a31d-4051-95f0-76530874946f",
   "metadata": {},
   "outputs": [
    {
     "ename": "TypeError",
     "evalue": "Could not convert 0.11148448747416495my name is shivangi0.128406175173510270.72692291568943810.136623667803657760.17187416095485997 to numeric",
     "output_type": "error",
     "traceback": [
      "\u001b[0;31m---------------------------------------------------------------------------\u001b[0m",
      "\u001b[0;31mValueError\u001b[0m                                Traceback (most recent call last)",
      "File \u001b[0;32m/opt/conda/lib/python3.10/site-packages/pandas/core/nanops.py:1630\u001b[0m, in \u001b[0;36m_ensure_numeric\u001b[0;34m(x)\u001b[0m\n\u001b[1;32m   1629\u001b[0m \u001b[38;5;28;01mtry\u001b[39;00m:\n\u001b[0;32m-> 1630\u001b[0m     x \u001b[38;5;241m=\u001b[39m \u001b[38;5;28;43mfloat\u001b[39;49m\u001b[43m(\u001b[49m\u001b[43mx\u001b[49m\u001b[43m)\u001b[49m\n\u001b[1;32m   1631\u001b[0m \u001b[38;5;28;01mexcept\u001b[39;00m (\u001b[38;5;167;01mTypeError\u001b[39;00m, \u001b[38;5;167;01mValueError\u001b[39;00m):\n\u001b[1;32m   1632\u001b[0m     \u001b[38;5;66;03m# e.g. \"1+1j\" or \"foo\"\u001b[39;00m\n",
      "\u001b[0;31mValueError\u001b[0m: could not convert string to float: '0.11148448747416495my name is shivangi0.128406175173510270.72692291568943810.136623667803657760.17187416095485997'",
      "\nDuring handling of the above exception, another exception occurred:\n",
      "\u001b[0;31mValueError\u001b[0m                                Traceback (most recent call last)",
      "File \u001b[0;32m/opt/conda/lib/python3.10/site-packages/pandas/core/nanops.py:1634\u001b[0m, in \u001b[0;36m_ensure_numeric\u001b[0;34m(x)\u001b[0m\n\u001b[1;32m   1633\u001b[0m \u001b[38;5;28;01mtry\u001b[39;00m:\n\u001b[0;32m-> 1634\u001b[0m     x \u001b[38;5;241m=\u001b[39m \u001b[38;5;28;43mcomplex\u001b[39;49m\u001b[43m(\u001b[49m\u001b[43mx\u001b[49m\u001b[43m)\u001b[49m\n\u001b[1;32m   1635\u001b[0m \u001b[38;5;28;01mexcept\u001b[39;00m \u001b[38;5;167;01mValueError\u001b[39;00m \u001b[38;5;28;01mas\u001b[39;00m err:\n\u001b[1;32m   1636\u001b[0m     \u001b[38;5;66;03m# e.g. \"foo\"\u001b[39;00m\n",
      "\u001b[0;31mValueError\u001b[0m: complex() arg is a malformed string",
      "\nThe above exception was the direct cause of the following exception:\n",
      "\u001b[0;31mTypeError\u001b[0m                                 Traceback (most recent call last)",
      "Cell \u001b[0;32mIn[35], line 1\u001b[0m\n\u001b[0;32m----> 1\u001b[0m mean_column2 \u001b[38;5;241m=\u001b[39m \u001b[43mdf1\u001b[49m\u001b[43m[\u001b[49m\u001b[38;5;124;43m\"\u001b[39;49m\u001b[38;5;124;43mcolumn_2\u001b[39;49m\u001b[38;5;124;43m\"\u001b[39;49m\u001b[43m]\u001b[49m\u001b[38;5;241;43m.\u001b[39;49m\u001b[43mmean\u001b[49m\u001b[43m(\u001b[49m\u001b[43m)\u001b[49m\n",
      "File \u001b[0;32m/opt/conda/lib/python3.10/site-packages/pandas/core/generic.py:11847\u001b[0m, in \u001b[0;36mNDFrame._add_numeric_operations.<locals>.mean\u001b[0;34m(self, axis, skipna, level, numeric_only, **kwargs)\u001b[0m\n\u001b[1;32m  11829\u001b[0m \u001b[38;5;129m@doc\u001b[39m(\n\u001b[1;32m  11830\u001b[0m     _num_doc,\n\u001b[1;32m  11831\u001b[0m     desc\u001b[38;5;241m=\u001b[39m\u001b[38;5;124m\"\u001b[39m\u001b[38;5;124mReturn the mean of the values over the requested axis.\u001b[39m\u001b[38;5;124m\"\u001b[39m,\n\u001b[0;32m   (...)\u001b[0m\n\u001b[1;32m  11845\u001b[0m     \u001b[38;5;241m*\u001b[39m\u001b[38;5;241m*\u001b[39mkwargs,\n\u001b[1;32m  11846\u001b[0m ):\n\u001b[0;32m> 11847\u001b[0m     \u001b[38;5;28;01mreturn\u001b[39;00m \u001b[43mNDFrame\u001b[49m\u001b[38;5;241;43m.\u001b[39;49m\u001b[43mmean\u001b[49m\u001b[43m(\u001b[49m\u001b[38;5;28;43mself\u001b[39;49m\u001b[43m,\u001b[49m\u001b[43m \u001b[49m\u001b[43maxis\u001b[49m\u001b[43m,\u001b[49m\u001b[43m \u001b[49m\u001b[43mskipna\u001b[49m\u001b[43m,\u001b[49m\u001b[43m \u001b[49m\u001b[43mlevel\u001b[49m\u001b[43m,\u001b[49m\u001b[43m \u001b[49m\u001b[43mnumeric_only\u001b[49m\u001b[43m,\u001b[49m\u001b[43m \u001b[49m\u001b[38;5;241;43m*\u001b[39;49m\u001b[38;5;241;43m*\u001b[39;49m\u001b[43mkwargs\u001b[49m\u001b[43m)\u001b[49m\n",
      "File \u001b[0;32m/opt/conda/lib/python3.10/site-packages/pandas/core/generic.py:11401\u001b[0m, in \u001b[0;36mNDFrame.mean\u001b[0;34m(self, axis, skipna, level, numeric_only, **kwargs)\u001b[0m\n\u001b[1;32m  11393\u001b[0m \u001b[38;5;28;01mdef\u001b[39;00m \u001b[38;5;21mmean\u001b[39m(\n\u001b[1;32m  11394\u001b[0m     \u001b[38;5;28mself\u001b[39m,\n\u001b[1;32m  11395\u001b[0m     axis: Axis \u001b[38;5;241m|\u001b[39m \u001b[38;5;28;01mNone\u001b[39;00m \u001b[38;5;241m|\u001b[39m lib\u001b[38;5;241m.\u001b[39mNoDefault \u001b[38;5;241m=\u001b[39m lib\u001b[38;5;241m.\u001b[39mno_default,\n\u001b[0;32m   (...)\u001b[0m\n\u001b[1;32m  11399\u001b[0m     \u001b[38;5;241m*\u001b[39m\u001b[38;5;241m*\u001b[39mkwargs,\n\u001b[1;32m  11400\u001b[0m ) \u001b[38;5;241m-\u001b[39m\u001b[38;5;241m>\u001b[39m Series \u001b[38;5;241m|\u001b[39m \u001b[38;5;28mfloat\u001b[39m:\n\u001b[0;32m> 11401\u001b[0m     \u001b[38;5;28;01mreturn\u001b[39;00m \u001b[38;5;28;43mself\u001b[39;49m\u001b[38;5;241;43m.\u001b[39;49m\u001b[43m_stat_function\u001b[49m\u001b[43m(\u001b[49m\n\u001b[1;32m  11402\u001b[0m \u001b[43m        \u001b[49m\u001b[38;5;124;43m\"\u001b[39;49m\u001b[38;5;124;43mmean\u001b[39;49m\u001b[38;5;124;43m\"\u001b[39;49m\u001b[43m,\u001b[49m\u001b[43m \u001b[49m\u001b[43mnanops\u001b[49m\u001b[38;5;241;43m.\u001b[39;49m\u001b[43mnanmean\u001b[49m\u001b[43m,\u001b[49m\u001b[43m \u001b[49m\u001b[43maxis\u001b[49m\u001b[43m,\u001b[49m\u001b[43m \u001b[49m\u001b[43mskipna\u001b[49m\u001b[43m,\u001b[49m\u001b[43m \u001b[49m\u001b[43mlevel\u001b[49m\u001b[43m,\u001b[49m\u001b[43m \u001b[49m\u001b[43mnumeric_only\u001b[49m\u001b[43m,\u001b[49m\u001b[43m \u001b[49m\u001b[38;5;241;43m*\u001b[39;49m\u001b[38;5;241;43m*\u001b[39;49m\u001b[43mkwargs\u001b[49m\n\u001b[1;32m  11403\u001b[0m \u001b[43m    \u001b[49m\u001b[43m)\u001b[49m\n",
      "File \u001b[0;32m/opt/conda/lib/python3.10/site-packages/pandas/core/generic.py:11353\u001b[0m, in \u001b[0;36mNDFrame._stat_function\u001b[0;34m(self, name, func, axis, skipna, level, numeric_only, **kwargs)\u001b[0m\n\u001b[1;32m  11343\u001b[0m     warnings\u001b[38;5;241m.\u001b[39mwarn(\n\u001b[1;32m  11344\u001b[0m         \u001b[38;5;124m\"\u001b[39m\u001b[38;5;124mUsing the level keyword in DataFrame and Series aggregations is \u001b[39m\u001b[38;5;124m\"\u001b[39m\n\u001b[1;32m  11345\u001b[0m         \u001b[38;5;124m\"\u001b[39m\u001b[38;5;124mdeprecated and will be removed in a future version. Use groupby \u001b[39m\u001b[38;5;124m\"\u001b[39m\n\u001b[0;32m   (...)\u001b[0m\n\u001b[1;32m  11348\u001b[0m         stacklevel\u001b[38;5;241m=\u001b[39mfind_stack_level(),\n\u001b[1;32m  11349\u001b[0m     )\n\u001b[1;32m  11350\u001b[0m     \u001b[38;5;28;01mreturn\u001b[39;00m \u001b[38;5;28mself\u001b[39m\u001b[38;5;241m.\u001b[39m_agg_by_level(\n\u001b[1;32m  11351\u001b[0m         name, axis\u001b[38;5;241m=\u001b[39maxis, level\u001b[38;5;241m=\u001b[39mlevel, skipna\u001b[38;5;241m=\u001b[39mskipna, numeric_only\u001b[38;5;241m=\u001b[39mnumeric_only\n\u001b[1;32m  11352\u001b[0m     )\n\u001b[0;32m> 11353\u001b[0m \u001b[38;5;28;01mreturn\u001b[39;00m \u001b[38;5;28;43mself\u001b[39;49m\u001b[38;5;241;43m.\u001b[39;49m\u001b[43m_reduce\u001b[49m\u001b[43m(\u001b[49m\n\u001b[1;32m  11354\u001b[0m \u001b[43m    \u001b[49m\u001b[43mfunc\u001b[49m\u001b[43m,\u001b[49m\u001b[43m \u001b[49m\u001b[43mname\u001b[49m\u001b[38;5;241;43m=\u001b[39;49m\u001b[43mname\u001b[49m\u001b[43m,\u001b[49m\u001b[43m \u001b[49m\u001b[43maxis\u001b[49m\u001b[38;5;241;43m=\u001b[39;49m\u001b[43maxis\u001b[49m\u001b[43m,\u001b[49m\u001b[43m \u001b[49m\u001b[43mskipna\u001b[49m\u001b[38;5;241;43m=\u001b[39;49m\u001b[43mskipna\u001b[49m\u001b[43m,\u001b[49m\u001b[43m \u001b[49m\u001b[43mnumeric_only\u001b[49m\u001b[38;5;241;43m=\u001b[39;49m\u001b[43mnumeric_only\u001b[49m\n\u001b[1;32m  11355\u001b[0m \u001b[43m\u001b[49m\u001b[43m)\u001b[49m\n",
      "File \u001b[0;32m/opt/conda/lib/python3.10/site-packages/pandas/core/series.py:4816\u001b[0m, in \u001b[0;36mSeries._reduce\u001b[0;34m(self, op, name, axis, skipna, numeric_only, filter_type, **kwds)\u001b[0m\n\u001b[1;32m   4812\u001b[0m     \u001b[38;5;28;01mraise\u001b[39;00m \u001b[38;5;167;01mNotImplementedError\u001b[39;00m(\n\u001b[1;32m   4813\u001b[0m         \u001b[38;5;124mf\u001b[39m\u001b[38;5;124m\"\u001b[39m\u001b[38;5;124mSeries.\u001b[39m\u001b[38;5;132;01m{\u001b[39;00mname\u001b[38;5;132;01m}\u001b[39;00m\u001b[38;5;124m does not implement \u001b[39m\u001b[38;5;132;01m{\u001b[39;00mkwd_name\u001b[38;5;132;01m}\u001b[39;00m\u001b[38;5;124m.\u001b[39m\u001b[38;5;124m\"\u001b[39m\n\u001b[1;32m   4814\u001b[0m     )\n\u001b[1;32m   4815\u001b[0m \u001b[38;5;28;01mwith\u001b[39;00m np\u001b[38;5;241m.\u001b[39merrstate(\u001b[38;5;28mall\u001b[39m\u001b[38;5;241m=\u001b[39m\u001b[38;5;124m\"\u001b[39m\u001b[38;5;124mignore\u001b[39m\u001b[38;5;124m\"\u001b[39m):\n\u001b[0;32m-> 4816\u001b[0m     \u001b[38;5;28;01mreturn\u001b[39;00m \u001b[43mop\u001b[49m\u001b[43m(\u001b[49m\u001b[43mdelegate\u001b[49m\u001b[43m,\u001b[49m\u001b[43m \u001b[49m\u001b[43mskipna\u001b[49m\u001b[38;5;241;43m=\u001b[39;49m\u001b[43mskipna\u001b[49m\u001b[43m,\u001b[49m\u001b[43m \u001b[49m\u001b[38;5;241;43m*\u001b[39;49m\u001b[38;5;241;43m*\u001b[39;49m\u001b[43mkwds\u001b[49m\u001b[43m)\u001b[49m\n",
      "File \u001b[0;32m/opt/conda/lib/python3.10/site-packages/pandas/core/nanops.py:93\u001b[0m, in \u001b[0;36mdisallow.__call__.<locals>._f\u001b[0;34m(*args, **kwargs)\u001b[0m\n\u001b[1;32m     91\u001b[0m \u001b[38;5;28;01mtry\u001b[39;00m:\n\u001b[1;32m     92\u001b[0m     \u001b[38;5;28;01mwith\u001b[39;00m np\u001b[38;5;241m.\u001b[39merrstate(invalid\u001b[38;5;241m=\u001b[39m\u001b[38;5;124m\"\u001b[39m\u001b[38;5;124mignore\u001b[39m\u001b[38;5;124m\"\u001b[39m):\n\u001b[0;32m---> 93\u001b[0m         \u001b[38;5;28;01mreturn\u001b[39;00m \u001b[43mf\u001b[49m\u001b[43m(\u001b[49m\u001b[38;5;241;43m*\u001b[39;49m\u001b[43margs\u001b[49m\u001b[43m,\u001b[49m\u001b[43m \u001b[49m\u001b[38;5;241;43m*\u001b[39;49m\u001b[38;5;241;43m*\u001b[39;49m\u001b[43mkwargs\u001b[49m\u001b[43m)\u001b[49m\n\u001b[1;32m     94\u001b[0m \u001b[38;5;28;01mexcept\u001b[39;00m \u001b[38;5;167;01mValueError\u001b[39;00m \u001b[38;5;28;01mas\u001b[39;00m e:\n\u001b[1;32m     95\u001b[0m     \u001b[38;5;66;03m# we want to transform an object array\u001b[39;00m\n\u001b[1;32m     96\u001b[0m     \u001b[38;5;66;03m# ValueError message to the more typical TypeError\u001b[39;00m\n\u001b[1;32m     97\u001b[0m     \u001b[38;5;66;03m# e.g. this is normally a disallowed function on\u001b[39;00m\n\u001b[1;32m     98\u001b[0m     \u001b[38;5;66;03m# object arrays that contain strings\u001b[39;00m\n\u001b[1;32m     99\u001b[0m     \u001b[38;5;28;01mif\u001b[39;00m is_object_dtype(args[\u001b[38;5;241m0\u001b[39m]):\n",
      "File \u001b[0;32m/opt/conda/lib/python3.10/site-packages/pandas/core/nanops.py:155\u001b[0m, in \u001b[0;36mbottleneck_switch.__call__.<locals>.f\u001b[0;34m(values, axis, skipna, **kwds)\u001b[0m\n\u001b[1;32m    153\u001b[0m         result \u001b[38;5;241m=\u001b[39m alt(values, axis\u001b[38;5;241m=\u001b[39maxis, skipna\u001b[38;5;241m=\u001b[39mskipna, \u001b[38;5;241m*\u001b[39m\u001b[38;5;241m*\u001b[39mkwds)\n\u001b[1;32m    154\u001b[0m \u001b[38;5;28;01melse\u001b[39;00m:\n\u001b[0;32m--> 155\u001b[0m     result \u001b[38;5;241m=\u001b[39m \u001b[43malt\u001b[49m\u001b[43m(\u001b[49m\u001b[43mvalues\u001b[49m\u001b[43m,\u001b[49m\u001b[43m \u001b[49m\u001b[43maxis\u001b[49m\u001b[38;5;241;43m=\u001b[39;49m\u001b[43maxis\u001b[49m\u001b[43m,\u001b[49m\u001b[43m \u001b[49m\u001b[43mskipna\u001b[49m\u001b[38;5;241;43m=\u001b[39;49m\u001b[43mskipna\u001b[49m\u001b[43m,\u001b[49m\u001b[43m \u001b[49m\u001b[38;5;241;43m*\u001b[39;49m\u001b[38;5;241;43m*\u001b[39;49m\u001b[43mkwds\u001b[49m\u001b[43m)\u001b[49m\n\u001b[1;32m    157\u001b[0m \u001b[38;5;28;01mreturn\u001b[39;00m result\n",
      "File \u001b[0;32m/opt/conda/lib/python3.10/site-packages/pandas/core/nanops.py:418\u001b[0m, in \u001b[0;36m_datetimelike_compat.<locals>.new_func\u001b[0;34m(values, axis, skipna, mask, **kwargs)\u001b[0m\n\u001b[1;32m    415\u001b[0m \u001b[38;5;28;01mif\u001b[39;00m datetimelike \u001b[38;5;129;01mand\u001b[39;00m mask \u001b[38;5;129;01mis\u001b[39;00m \u001b[38;5;28;01mNone\u001b[39;00m:\n\u001b[1;32m    416\u001b[0m     mask \u001b[38;5;241m=\u001b[39m isna(values)\n\u001b[0;32m--> 418\u001b[0m result \u001b[38;5;241m=\u001b[39m \u001b[43mfunc\u001b[49m\u001b[43m(\u001b[49m\u001b[43mvalues\u001b[49m\u001b[43m,\u001b[49m\u001b[43m \u001b[49m\u001b[43maxis\u001b[49m\u001b[38;5;241;43m=\u001b[39;49m\u001b[43maxis\u001b[49m\u001b[43m,\u001b[49m\u001b[43m \u001b[49m\u001b[43mskipna\u001b[49m\u001b[38;5;241;43m=\u001b[39;49m\u001b[43mskipna\u001b[49m\u001b[43m,\u001b[49m\u001b[43m \u001b[49m\u001b[43mmask\u001b[49m\u001b[38;5;241;43m=\u001b[39;49m\u001b[43mmask\u001b[49m\u001b[43m,\u001b[49m\u001b[43m \u001b[49m\u001b[38;5;241;43m*\u001b[39;49m\u001b[38;5;241;43m*\u001b[39;49m\u001b[43mkwargs\u001b[49m\u001b[43m)\u001b[49m\n\u001b[1;32m    420\u001b[0m \u001b[38;5;28;01mif\u001b[39;00m datetimelike:\n\u001b[1;32m    421\u001b[0m     result \u001b[38;5;241m=\u001b[39m _wrap_results(result, orig_values\u001b[38;5;241m.\u001b[39mdtype, fill_value\u001b[38;5;241m=\u001b[39miNaT)\n",
      "File \u001b[0;32m/opt/conda/lib/python3.10/site-packages/pandas/core/nanops.py:706\u001b[0m, in \u001b[0;36mnanmean\u001b[0;34m(values, axis, skipna, mask)\u001b[0m\n\u001b[1;32m    703\u001b[0m     dtype_count \u001b[38;5;241m=\u001b[39m dtype\n\u001b[1;32m    705\u001b[0m count \u001b[38;5;241m=\u001b[39m _get_counts(values\u001b[38;5;241m.\u001b[39mshape, mask, axis, dtype\u001b[38;5;241m=\u001b[39mdtype_count)\n\u001b[0;32m--> 706\u001b[0m the_sum \u001b[38;5;241m=\u001b[39m \u001b[43m_ensure_numeric\u001b[49m\u001b[43m(\u001b[49m\u001b[43mvalues\u001b[49m\u001b[38;5;241;43m.\u001b[39;49m\u001b[43msum\u001b[49m\u001b[43m(\u001b[49m\u001b[43maxis\u001b[49m\u001b[43m,\u001b[49m\u001b[43m \u001b[49m\u001b[43mdtype\u001b[49m\u001b[38;5;241;43m=\u001b[39;49m\u001b[43mdtype_sum\u001b[49m\u001b[43m)\u001b[49m\u001b[43m)\u001b[49m\n\u001b[1;32m    708\u001b[0m \u001b[38;5;28;01mif\u001b[39;00m axis \u001b[38;5;129;01mis\u001b[39;00m \u001b[38;5;129;01mnot\u001b[39;00m \u001b[38;5;28;01mNone\u001b[39;00m \u001b[38;5;129;01mand\u001b[39;00m \u001b[38;5;28mgetattr\u001b[39m(the_sum, \u001b[38;5;124m\"\u001b[39m\u001b[38;5;124mndim\u001b[39m\u001b[38;5;124m\"\u001b[39m, \u001b[38;5;28;01mFalse\u001b[39;00m):\n\u001b[1;32m    709\u001b[0m     count \u001b[38;5;241m=\u001b[39m cast(np\u001b[38;5;241m.\u001b[39mndarray, count)\n",
      "File \u001b[0;32m/opt/conda/lib/python3.10/site-packages/pandas/core/nanops.py:1637\u001b[0m, in \u001b[0;36m_ensure_numeric\u001b[0;34m(x)\u001b[0m\n\u001b[1;32m   1634\u001b[0m             x \u001b[38;5;241m=\u001b[39m \u001b[38;5;28mcomplex\u001b[39m(x)\n\u001b[1;32m   1635\u001b[0m         \u001b[38;5;28;01mexcept\u001b[39;00m \u001b[38;5;167;01mValueError\u001b[39;00m \u001b[38;5;28;01mas\u001b[39;00m err:\n\u001b[1;32m   1636\u001b[0m             \u001b[38;5;66;03m# e.g. \"foo\"\u001b[39;00m\n\u001b[0;32m-> 1637\u001b[0m             \u001b[38;5;28;01mraise\u001b[39;00m \u001b[38;5;167;01mTypeError\u001b[39;00m(\u001b[38;5;124mf\u001b[39m\u001b[38;5;124m\"\u001b[39m\u001b[38;5;124mCould not convert \u001b[39m\u001b[38;5;132;01m{\u001b[39;00mx\u001b[38;5;132;01m}\u001b[39;00m\u001b[38;5;124m to numeric\u001b[39m\u001b[38;5;124m\"\u001b[39m) \u001b[38;5;28;01mfrom\u001b[39;00m \u001b[38;5;21;01merr\u001b[39;00m\n\u001b[1;32m   1638\u001b[0m \u001b[38;5;28;01mreturn\u001b[39;00m x\n",
      "\u001b[0;31mTypeError\u001b[0m: Could not convert 0.11148448747416495my name is shivangi0.128406175173510270.72692291568943810.136623667803657760.17187416095485997 to numeric"
     ]
    }
   ],
   "source": [
    "mean_column2 = df1[\"column_2\"].mean()"
   ]
  },
  {
   "cell_type": "markdown",
   "id": "50702ae7-3235-47f4-89d5-0d906b95640d",
   "metadata": {},
   "source": [
    " it's possible to assign a string to a specific cell in a numeric column and convert the entire column to a string data type, this approach can lead to issues when performing numeric operations like calculating the mean. It's essential to maintain a consistent data type within a column to perform meaningful calculations."
   ]
  },
  {
   "cell_type": "markdown",
   "id": "93d9feba-f0ff-462b-9dd1-4e3409bcfbd1",
   "metadata": {},
   "source": [
    "Q6. What do you understand about the windows function in pandas and list the types of windows\n",
    "functions?"
   ]
  },
  {
   "cell_type": "markdown",
   "id": "22e10990-f53b-4b75-a211-b64191178602",
   "metadata": {},
   "source": [
    "In Pandas, the \"window functions\" (sometimes referred to as \"windowing\" or \"rolling\" functions) are a group of operations that allow you to perform calculations on a set of data points over a specific window or rolling period. These functions are particularly useful for time series data analysis and other applications where you need to compute statistics or aggregations over moving subsets of your data. Windows functions in Pandas are typically applied using the rolling method in conjunction with various aggregation functions."
   ]
  },
  {
   "cell_type": "markdown",
   "id": "3208a9df-5a05-4151-a107-5a264cecf906",
   "metadata": {},
   "source": [
    "Some common types of window functions in Pandas include:\n",
    "\n",
    "Rolling Mean (Moving Average): Computes the mean of a rolling window of data points. It's useful for smoothing out fluctuations in time series data."
   ]
  },
  {
   "cell_type": "code",
   "execution_count": 47,
   "id": "0172e317-5545-42d8-b2d5-43df119d4efe",
   "metadata": {},
   "outputs": [
    {
     "data": {
      "text/html": [
       "<div>\n",
       "<style scoped>\n",
       "    .dataframe tbody tr th:only-of-type {\n",
       "        vertical-align: middle;\n",
       "    }\n",
       "\n",
       "    .dataframe tbody tr th {\n",
       "        vertical-align: top;\n",
       "    }\n",
       "\n",
       "    .dataframe thead th {\n",
       "        text-align: right;\n",
       "    }\n",
       "</style>\n",
       "<table border=\"1\" class=\"dataframe\">\n",
       "  <thead>\n",
       "    <tr style=\"text-align: right;\">\n",
       "      <th></th>\n",
       "      <th>column_1</th>\n",
       "      <th>column_2</th>\n",
       "      <th>column_3</th>\n",
       "      <th>column_4</th>\n",
       "      <th>column_5</th>\n",
       "      <th>column_6</th>\n",
       "      <th>rolling_mean</th>\n",
       "    </tr>\n",
       "  </thead>\n",
       "  <tbody>\n",
       "    <tr>\n",
       "      <th>1</th>\n",
       "      <td>0.776087</td>\n",
       "      <td>0.11148448747416495</td>\n",
       "      <td>0.466044</td>\n",
       "      <td>0.134153</td>\n",
       "      <td>0.424817</td>\n",
       "      <td>0.573128</td>\n",
       "      <td>NaN</td>\n",
       "    </tr>\n",
       "    <tr>\n",
       "      <th>2</th>\n",
       "      <td>0.660854</td>\n",
       "      <td>my name is shivangi</td>\n",
       "      <td>0.115167</td>\n",
       "      <td>0.807394</td>\n",
       "      <td>0.420262</td>\n",
       "      <td>0.753903</td>\n",
       "      <td>NaN</td>\n",
       "    </tr>\n",
       "    <tr>\n",
       "      <th>3</th>\n",
       "      <td>0.689216</td>\n",
       "      <td>0.12840617517351027</td>\n",
       "      <td>0.430537</td>\n",
       "      <td>0.434066</td>\n",
       "      <td>0.121510</td>\n",
       "      <td>0.456926</td>\n",
       "      <td>0.708719</td>\n",
       "    </tr>\n",
       "    <tr>\n",
       "      <th>4</th>\n",
       "      <td>0.335029</td>\n",
       "      <td>0.7269229156894381</td>\n",
       "      <td>0.571371</td>\n",
       "      <td>0.304838</td>\n",
       "      <td>0.068929</td>\n",
       "      <td>0.015654</td>\n",
       "      <td>0.561699</td>\n",
       "    </tr>\n",
       "    <tr>\n",
       "      <th>5</th>\n",
       "      <td>0.750450</td>\n",
       "      <td>0.13662366780365776</td>\n",
       "      <td>0.735916</td>\n",
       "      <td>0.484225</td>\n",
       "      <td>0.053739</td>\n",
       "      <td>0.848631</td>\n",
       "      <td>0.591565</td>\n",
       "    </tr>\n",
       "    <tr>\n",
       "      <th>6</th>\n",
       "      <td>0.709796</td>\n",
       "      <td>0.17187416095485997</td>\n",
       "      <td>0.563367</td>\n",
       "      <td>0.526634</td>\n",
       "      <td>0.705425</td>\n",
       "      <td>0.007450</td>\n",
       "      <td>0.598425</td>\n",
       "    </tr>\n",
       "  </tbody>\n",
       "</table>\n",
       "</div>"
      ],
      "text/plain": [
       "   column_1             column_2  column_3  column_4  column_5  column_6  \\\n",
       "1  0.776087  0.11148448747416495  0.466044  0.134153  0.424817  0.573128   \n",
       "2  0.660854  my name is shivangi  0.115167  0.807394  0.420262  0.753903   \n",
       "3  0.689216  0.12840617517351027  0.430537  0.434066  0.121510  0.456926   \n",
       "4  0.335029   0.7269229156894381  0.571371  0.304838  0.068929  0.015654   \n",
       "5  0.750450  0.13662366780365776  0.735916  0.484225  0.053739  0.848631   \n",
       "6  0.709796  0.17187416095485997  0.563367  0.526634  0.705425  0.007450   \n",
       "\n",
       "   rolling_mean  \n",
       "1           NaN  \n",
       "2           NaN  \n",
       "3      0.708719  \n",
       "4      0.561699  \n",
       "5      0.591565  \n",
       "6      0.598425  "
      ]
     },
     "execution_count": 47,
     "metadata": {},
     "output_type": "execute_result"
    }
   ],
   "source": [
    "df1['rolling_mean'] = df1[\"column_1\"].rolling(window=3).mean()"
   ]
  },
  {
   "cell_type": "code",
   "execution_count": 48,
   "id": "8ef85a99-8b3b-407d-89fa-a870d99423f2",
   "metadata": {},
   "outputs": [],
   "source": [
    "df1['rolling_sum'] = df1[\"column_1\"].rolling(window=3).sum()"
   ]
  },
  {
   "cell_type": "code",
   "execution_count": 49,
   "id": "3c6bd954-e585-4aa0-8fe9-1eba9888a7aa",
   "metadata": {},
   "outputs": [],
   "source": [
    "df1[\"rolling_max\"] = df1[\"column_1\"].rolling(window = 3).max()"
   ]
  },
  {
   "cell_type": "code",
   "execution_count": 50,
   "id": "566ad062-39af-48ba-bda5-a4170349be23",
   "metadata": {},
   "outputs": [],
   "source": [
    "df1[\"rolling_min\"]=  df1[\"column_1\"].rolling(window=3).min()"
   ]
  },
  {
   "cell_type": "code",
   "execution_count": 52,
   "id": "6a86398f-f4fb-4b60-bf17-38f015e11fa2",
   "metadata": {},
   "outputs": [],
   "source": [
    "df1['expanding_mean'] = df1['column_1'].expanding().mean()"
   ]
  },
  {
   "cell_type": "code",
   "execution_count": 53,
   "id": "27c6f88e-9edc-4cd0-93d7-15f1b3f28e1a",
   "metadata": {},
   "outputs": [
    {
     "data": {
      "text/html": [
       "<div>\n",
       "<style scoped>\n",
       "    .dataframe tbody tr th:only-of-type {\n",
       "        vertical-align: middle;\n",
       "    }\n",
       "\n",
       "    .dataframe tbody tr th {\n",
       "        vertical-align: top;\n",
       "    }\n",
       "\n",
       "    .dataframe thead th {\n",
       "        text-align: right;\n",
       "    }\n",
       "</style>\n",
       "<table border=\"1\" class=\"dataframe\">\n",
       "  <thead>\n",
       "    <tr style=\"text-align: right;\">\n",
       "      <th></th>\n",
       "      <th>column_1</th>\n",
       "      <th>column_2</th>\n",
       "      <th>column_3</th>\n",
       "      <th>column_4</th>\n",
       "      <th>column_5</th>\n",
       "      <th>column_6</th>\n",
       "      <th>rolling_mean</th>\n",
       "      <th>rolling_sum</th>\n",
       "      <th>rolling_max</th>\n",
       "      <th>rolling_min</th>\n",
       "      <th>expanding_mean</th>\n",
       "    </tr>\n",
       "  </thead>\n",
       "  <tbody>\n",
       "    <tr>\n",
       "      <th>1</th>\n",
       "      <td>0.776087</td>\n",
       "      <td>0.11148448747416495</td>\n",
       "      <td>0.466044</td>\n",
       "      <td>0.134153</td>\n",
       "      <td>0.424817</td>\n",
       "      <td>0.573128</td>\n",
       "      <td>NaN</td>\n",
       "      <td>NaN</td>\n",
       "      <td>NaN</td>\n",
       "      <td>NaN</td>\n",
       "      <td>0.776087</td>\n",
       "    </tr>\n",
       "    <tr>\n",
       "      <th>2</th>\n",
       "      <td>0.660854</td>\n",
       "      <td>my name is shivangi</td>\n",
       "      <td>0.115167</td>\n",
       "      <td>0.807394</td>\n",
       "      <td>0.420262</td>\n",
       "      <td>0.753903</td>\n",
       "      <td>NaN</td>\n",
       "      <td>NaN</td>\n",
       "      <td>NaN</td>\n",
       "      <td>NaN</td>\n",
       "      <td>0.718470</td>\n",
       "    </tr>\n",
       "    <tr>\n",
       "      <th>3</th>\n",
       "      <td>0.689216</td>\n",
       "      <td>0.12840617517351027</td>\n",
       "      <td>0.430537</td>\n",
       "      <td>0.434066</td>\n",
       "      <td>0.121510</td>\n",
       "      <td>0.456926</td>\n",
       "      <td>0.708719</td>\n",
       "      <td>2.126156</td>\n",
       "      <td>0.776087</td>\n",
       "      <td>0.660854</td>\n",
       "      <td>0.708719</td>\n",
       "    </tr>\n",
       "    <tr>\n",
       "      <th>4</th>\n",
       "      <td>0.335029</td>\n",
       "      <td>0.7269229156894381</td>\n",
       "      <td>0.571371</td>\n",
       "      <td>0.304838</td>\n",
       "      <td>0.068929</td>\n",
       "      <td>0.015654</td>\n",
       "      <td>0.561699</td>\n",
       "      <td>1.685098</td>\n",
       "      <td>0.689216</td>\n",
       "      <td>0.335029</td>\n",
       "      <td>0.615296</td>\n",
       "    </tr>\n",
       "    <tr>\n",
       "      <th>5</th>\n",
       "      <td>0.750450</td>\n",
       "      <td>0.13662366780365776</td>\n",
       "      <td>0.735916</td>\n",
       "      <td>0.484225</td>\n",
       "      <td>0.053739</td>\n",
       "      <td>0.848631</td>\n",
       "      <td>0.591565</td>\n",
       "      <td>1.774694</td>\n",
       "      <td>0.750450</td>\n",
       "      <td>0.335029</td>\n",
       "      <td>0.642327</td>\n",
       "    </tr>\n",
       "    <tr>\n",
       "      <th>6</th>\n",
       "      <td>0.709796</td>\n",
       "      <td>0.17187416095485997</td>\n",
       "      <td>0.563367</td>\n",
       "      <td>0.526634</td>\n",
       "      <td>0.705425</td>\n",
       "      <td>0.007450</td>\n",
       "      <td>0.598425</td>\n",
       "      <td>1.795275</td>\n",
       "      <td>0.750450</td>\n",
       "      <td>0.335029</td>\n",
       "      <td>0.653572</td>\n",
       "    </tr>\n",
       "  </tbody>\n",
       "</table>\n",
       "</div>"
      ],
      "text/plain": [
       "   column_1             column_2  column_3  column_4  column_5  column_6  \\\n",
       "1  0.776087  0.11148448747416495  0.466044  0.134153  0.424817  0.573128   \n",
       "2  0.660854  my name is shivangi  0.115167  0.807394  0.420262  0.753903   \n",
       "3  0.689216  0.12840617517351027  0.430537  0.434066  0.121510  0.456926   \n",
       "4  0.335029   0.7269229156894381  0.571371  0.304838  0.068929  0.015654   \n",
       "5  0.750450  0.13662366780365776  0.735916  0.484225  0.053739  0.848631   \n",
       "6  0.709796  0.17187416095485997  0.563367  0.526634  0.705425  0.007450   \n",
       "\n",
       "   rolling_mean  rolling_sum  rolling_max  rolling_min  expanding_mean  \n",
       "1           NaN          NaN          NaN          NaN        0.776087  \n",
       "2           NaN          NaN          NaN          NaN        0.718470  \n",
       "3      0.708719     2.126156     0.776087     0.660854        0.708719  \n",
       "4      0.561699     1.685098     0.689216     0.335029        0.615296  \n",
       "5      0.591565     1.774694     0.750450     0.335029        0.642327  \n",
       "6      0.598425     1.795275     0.750450     0.335029        0.653572  "
      ]
     },
     "execution_count": 53,
     "metadata": {},
     "output_type": "execute_result"
    }
   ],
   "source": [
    "df1"
   ]
  },
  {
   "cell_type": "markdown",
   "id": "4f977a32-1dff-4515-a3fc-6739c0beb30e",
   "metadata": {},
   "source": [
    "Q7. Write a code to print only the current month and year at the time of answering this question.\n",
    "[Hint: Use pandas.datetime function]"
   ]
  },
  {
   "cell_type": "code",
   "execution_count": 67,
   "id": "71d1ca49-0f2b-4851-8a5d-5be3c3eb7bb6",
   "metadata": {},
   "outputs": [
    {
     "data": {
      "text/plain": [
       "Timestamp('2023-09-01 00:00:00')"
      ]
     },
     "execution_count": 67,
     "metadata": {},
     "output_type": "execute_result"
    }
   ],
   "source": [
    "from datetime import datetime\n",
    "\n",
    "# Get the current date and time\n",
    "current_date = datetime.now()\n",
    "current_year_month = pd.to_datetime(f\"{current_date.year}-{current_date.month}\")\n",
    "current_year_month"
   ]
  },
  {
   "cell_type": "markdown",
   "id": "9bcc0c6a-11a3-4fc2-8159-720b432f8ea3",
   "metadata": {},
   "source": [
    "Q8. Write a Python program that takes in two dates as input (in the format YYYY-MM-DD) and\n",
    "calculates the difference between them in days, hours, and minutes using Pandas time delta. The\n",
    "program should prompt the user to enter the dates and display the result."
   ]
  },
  {
   "cell_type": "code",
   "execution_count": 78,
   "id": "50233884-3d07-42c4-aeb6-34123196cbc7",
   "metadata": {},
   "outputs": [
    {
     "name": "stdout",
     "output_type": "stream",
     "text": [
      "Enter the first date (yyyy-mm-dd):\n"
     ]
    },
    {
     "name": "stdin",
     "output_type": "stream",
     "text": [
      " 2023-09-16\n"
     ]
    },
    {
     "name": "stdout",
     "output_type": "stream",
     "text": [
      "Enter the second date (yyyy-mm-dd):\n"
     ]
    },
    {
     "name": "stdin",
     "output_type": "stream",
     "text": [
      " 2023-10-01\n"
     ]
    },
    {
     "name": "stdout",
     "output_type": "stream",
     "text": [
      "15 days 00:00:00\n",
      "Difference in hours: 0\n",
      "Difference in minutes: 0\n"
     ]
    }
   ],
   "source": [
    "def date_input(prompt):\n",
    "        try:\n",
    "            date_str = input(prompt)\n",
    "            date_object = pd.to_datetime(date_str)\n",
    "            return date_object\n",
    "        \n",
    "        except ValueError:\n",
    "            print(\"Invalid date format. Please use YYYY-MM-DD format.\")\n",
    "            \n",
    "print(\"Enter the first date (yyyy-mm-dd):\")\n",
    "date1 = date_input(\"\")\n",
    "\n",
    "print(\"Enter the second date (yyyy-mm-dd):\")\n",
    "date2 = date_input(\"\")\n",
    "\n",
    "#time difference\n",
    "difference = date2 - date1\n",
    "print (difference)\n",
    "\n",
    "hours =  difference.seconds // 3600\n",
    "minutes = (difference.seconds % 3600) // 60\n",
    "\n",
    "# Display the result\n",
    "print(f\"Difference in hours: {hours}\")\n",
    "print(f\"Difference in minutes: {minutes}\")"
   ]
  },
  {
   "cell_type": "markdown",
   "id": "5b704a66-804a-4c2f-be2c-a98c0a482c6e",
   "metadata": {},
   "source": [
    "Q9. Write a Python program that reads a CSV file containing categorical data and converts a specified\n",
    "column to a categorical data type. The program should prompt the user to enter the file path, column\n",
    "name, and category order, and then display the sorted data."
   ]
  },
  {
   "cell_type": "code",
   "execution_count": null,
   "id": "ebd3a212-889d-41f5-ac9a-8c7bf6856413",
   "metadata": {},
   "outputs": [],
   "source": [
    "def csv_file(file_path, column_name ,category_order ):\n",
    "    try:\n",
    "        df9 = pd.read_csv(file_path)\n",
    "        df9[\"category_col\"] = pd.Categorical(df9[\"category_col\"], categories=category_order, ordered=True)\n",
    "        sorted_data = df9.sort_values(by =column_name)\n",
    "        print (sorted_data)\n",
    "    \n",
    "    \n",
    "    except FileNotFoundError:\n",
    "        print(\"File not found. Please check the file path.\")\n",
    "    except KeyError:\n",
    "        print(\"Column not found in the CSV file.\")\n",
    "    except Exception as e:\n",
    "        print(f\"An error occurred: {str(e)}\")\n",
    "\n",
    "if __name__ == \"__main__\":\n",
    "    # Prompt the user for input\n",
    "    file_path = input(\"Enter the file path of the CSV file: \")\n",
    "    column_name = input(\"Enter the column name to convert to categorical data type: \")\n",
    "    category_order = input(\"Enter the category order (comma-separated, e.g., 'Category1,Category2,Category3'): \").split(',')\n",
    "\n",
    "    # Call the function to process the CSV file\n",
    "    csv_file(file_path, column_name, category_order)"
   ]
  },
  {
   "cell_type": "markdown",
   "id": "62f787e5-3986-41a6-ab7d-b21420aae34b",
   "metadata": {},
   "source": [
    "Q10. Write a Python program that reads a CSV file containing sales data for different products and\n",
    "visualizes the data using a stacked bar chart to show the sales of each product category over time. The\n",
    "program should prompt the user to enter the file path and display the chart."
   ]
  },
  {
   "cell_type": "code",
   "execution_count": null,
   "id": "b754bd13-3ad3-4b6b-b1f4-7585c0e10880",
   "metadata": {},
   "outputs": [],
   "source": [
    "import pandas as pd\n",
    "import matplotlib.pyplot as plt\n",
    "\n",
    "# Function to read CSV file and create a stacked bar chart\n",
    "def visualize_sales_data(file_path):\n",
    "    try:\n",
    "        # Read the CSV file into a DataFrame\n",
    "        df = pd.read_csv(file_path)\n",
    "\n",
    "        # Create a pivot table to aggregate sales data by product category and time period\n",
    "        pivot_table = df.pivot_table(index='Time', columns='Product_Category', values='Sales', aggfunc='sum')\n",
    "\n",
    "        # Plot the stacked bar chart\n",
    "        pivot_table.plot(kind='bar', stacked=True, figsize=(10, 6))\n",
    "        plt.xlabel('Time Period')\n",
    "        plt.ylabel('Sales')\n",
    "        plt.title('Sales by Product Category Over Time')\n",
    "        plt.legend(title='Product Category', bbox_to_anchor=(1.05, 1), loc='upper left')\n",
    "\n",
    "        # Show the chart\n",
    "        plt.show()\n",
    "\n",
    "    except FileNotFoundError:\n",
    "        print(\"File not found. Please check the file path.\")\n",
    "    except Exception as e:\n",
    "        print(f\"An error occurred: {str(e)}\")\n",
    "\n",
    "if __name__ == \"__main__\":\n",
    "    # Prompt the user for the file path of the CSV file\n",
    "    file_path = input(\"Enter the file path of the CSV file containing sales data: \")\n",
    "\n",
    "    # Call the function to visualize the sales data\n",
    "    visualize_sales_data(file_path)\n"
   ]
  },
  {
   "cell_type": "code",
   "execution_count": null,
   "id": "58aad82b-4d24-4639-8e3e-d2a9461e9a1c",
   "metadata": {},
   "outputs": [],
   "source": []
  }
 ],
 "metadata": {
  "kernelspec": {
   "display_name": "Python 3 (ipykernel)",
   "language": "python",
   "name": "python3"
  },
  "language_info": {
   "codemirror_mode": {
    "name": "ipython",
    "version": 3
   },
   "file_extension": ".py",
   "mimetype": "text/x-python",
   "name": "python",
   "nbconvert_exporter": "python",
   "pygments_lexer": "ipython3",
   "version": "3.10.8"
  }
 },
 "nbformat": 4,
 "nbformat_minor": 5
}
